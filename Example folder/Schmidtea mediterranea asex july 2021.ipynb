{
 "cells": [
  {
   "cell_type": "markdown",
   "id": "72ece39b",
   "metadata": {},
   "source": [
    "# Importing modules and settings"
   ]
  },
  {
   "cell_type": "markdown",
   "id": "a4f83f9a",
   "metadata": {},
   "source": [
    "Scanpy is based on pandas and numpy, and uses matplotlib to generate plots"
   ]
  },
  {
   "cell_type": "code",
   "execution_count": null,
   "id": "238c8e41",
   "metadata": {},
   "outputs": [],
   "source": [
    "import numpy as np\n",
    "import pandas as pd\n",
    "import scanpy as sc"
   ]
  },
  {
   "cell_type": "markdown",
   "id": "2b9b5a13",
   "metadata": {},
   "source": [
    "We import this library to quickly adjust plot sizes in an easy way"
   ]
  },
  {
   "cell_type": "code",
   "execution_count": null,
   "id": "a6ca374b",
   "metadata": {},
   "outputs": [],
   "source": [
    "from matplotlib.pyplot import rc_context"
   ]
  },
  {
   "cell_type": "markdown",
   "id": "4133c199",
   "metadata": {},
   "source": [
    "General settings of Scanpy"
   ]
  },
  {
   "cell_type": "code",
   "execution_count": null,
   "id": "3be21d53",
   "metadata": {},
   "outputs": [],
   "source": [
    "sc.settings.verbosity = 3 \n",
    "sc.logging.print_header()\n",
    "sc.settings.set_figure_params(dpi=80, facecolor='white')\n"
   ]
  },
  {
   "cell_type": "markdown",
   "id": "37ab1998",
   "metadata": {},
   "source": [
    "# Declaring the input and output files"
   ]
  },
  {
   "cell_type": "markdown",
   "id": "9f280d1e",
   "metadata": {},
   "source": [
    "Scanpy saves the \"analysis\" in h5ad format. This is the output file and when you read it again you will have there all the analyses, markers, PCs, colors, etc, stored in there. We assign this to \"results_file\", and when we save data, we will just pass \"results_file\" to the writing data function."
   ]
  },
  {
   "cell_type": "code",
   "execution_count": null,
   "id": "39f3c747",
   "metadata": {},
   "outputs": [],
   "source": [
    "results_file = './schmidtea_asexual.h5ad'"
   ]
  },
  {
   "cell_type": "markdown",
   "id": "e378916b",
   "metadata": {},
   "source": [
    "Scanpy can read data in a variety of ways. The 10X format is one, and it is easy to obtain. This function expects the matrix in a directory with 2 tsv files and an mtx file. The data is written in an object called \"adata\". As usual, you can use the name you like here, you will just have to type the name in the arguments of each function you use on the object. \"Adata\" is the one the scanpy team uses in the tutorials."
   ]
  },
  {
   "cell_type": "code",
   "execution_count": null,
   "id": "f742fb8e",
   "metadata": {},
   "outputs": [],
   "source": [
    "adata = sc.read_10x_mtx(\n",
    "    \"./matrix_format/\",\n",
    "    var_names='gene_symbols',\n",
    "    cache=True)"
   ]
  },
  {
   "cell_type": "markdown",
   "id": "b8fe7895",
   "metadata": {},
   "source": [
    "This following cell will make the var names unique (by appending numbers). It should not be necessary, but it does not harm"
   ]
  },
  {
   "cell_type": "code",
   "execution_count": null,
   "id": "127586d1",
   "metadata": {},
   "outputs": [],
   "source": [
    "adata.var_names_make_unique()"
   ]
  },
  {
   "cell_type": "code",
   "execution_count": null,
   "id": "0fb8b85b",
   "metadata": {},
   "outputs": [],
   "source": [
    "adata.var_names"
   ]
  },
  {
   "cell_type": "markdown",
   "id": "028158b1",
   "metadata": {},
   "source": [
    "At this point let's check what we have in the 2 dataframes, adata.var and adata.obs, as well as the unstructured part, adata.uns"
   ]
  },
  {
   "cell_type": "code",
   "execution_count": null,
   "id": "31607fb9",
   "metadata": {},
   "outputs": [],
   "source": [
    "adata.var"
   ]
  },
  {
   "cell_type": "code",
   "execution_count": null,
   "id": "902c4ae2",
   "metadata": {},
   "outputs": [],
   "source": [
    "adata.obs"
   ]
  },
  {
   "cell_type": "code",
   "execution_count": null,
   "id": "4ee8383c",
   "metadata": {},
   "outputs": [],
   "source": [
    "list(adata.var.columns)"
   ]
  },
  {
   "cell_type": "code",
   "execution_count": null,
   "id": "6f18475f",
   "metadata": {},
   "outputs": [],
   "source": [
    "list(adata.obs.columns)"
   ]
  },
  {
   "cell_type": "code",
   "execution_count": null,
   "id": "67c6df08",
   "metadata": {},
   "outputs": [],
   "source": [
    "list(adata.uns)"
   ]
  },
  {
   "cell_type": "markdown",
   "id": "3910e6bd",
   "metadata": {},
   "source": [
    "We can use this script to tell us what data do we have in a quick way"
   ]
  },
  {
   "cell_type": "code",
   "execution_count": null,
   "id": "602364c8",
   "metadata": {},
   "outputs": [],
   "source": [
    "print (\"adata.obs has now\", len(list(adata.obs.columns)), \"columns:\")\n",
    "print(list(adata.obs.columns))\n",
    "print (\"adata.var has now\", len(list(adata.var.columns)), \"columns:\")\n",
    "print(list(adata.var.columns))\n",
    "print (\"adata.uns has now\", len(list(adata.uns)), \"items:\")\n",
    "print(list(adata.uns))"
   ]
  },
  {
   "cell_type": "markdown",
   "id": "e062b2fc",
   "metadata": {},
   "source": [
    "So, if you are running the analysis from scratch, there should not be much information in the pandas dataframes. The subsequent analyses will go adding layers of data"
   ]
  },
  {
   "cell_type": "markdown",
   "id": "c367d033",
   "metadata": {},
   "source": [
    "The default reporting of the anndata object does a similar thing. Just type \"adata\" (or the name of your anndata object) and it will print a summary"
   ]
  },
  {
   "cell_type": "code",
   "execution_count": null,
   "id": "8cb2aabc",
   "metadata": {},
   "outputs": [],
   "source": [
    "adata"
   ]
  },
  {
   "cell_type": "markdown",
   "id": "eca28d9f",
   "metadata": {},
   "source": [
    "# Preprocessing"
   ]
  },
  {
   "cell_type": "markdown",
   "id": "e5489419",
   "metadata": {},
   "source": [
    "In the following cells several of the parameters of the analysis are set. We will chose the minimum counts, genes and cells, annotate mt genes if we know them, and produce some plots."
   ]
  },
  {
   "cell_type": "code",
   "execution_count": null,
   "id": "b97044ac",
   "metadata": {},
   "outputs": [],
   "source": [
    "sc.pl.highest_expr_genes(adata, n_top=20, )"
   ]
  },
  {
   "cell_type": "code",
   "execution_count": null,
   "id": "5bb0deb7",
   "metadata": {},
   "outputs": [],
   "source": [
    "sc.pp.filter_cells(adata, min_counts=150)\n",
    "sc.pp.filter_cells(adata, min_genes= 50)\n",
    "sc.pp.filter_genes(adata, min_cells=1)"
   ]
  },
  {
   "cell_type": "markdown",
   "id": "2d48b6f8",
   "metadata": {},
   "source": [
    "**\"n_counts\" and \"n_genes\"** should be added now to **adata.obs**  \n",
    "(the dataframe that contains the observations for each cell - therefore now we have a column that tells us how many UMI - counts and how many genes each cell expresses)  \n",
    "**\"n_cells\"** should be added now to **adata.var**  \n",
    "(the dataframe that contains the stats of each gene - we get a column that tells us in how many cells the gene is expressed)"
   ]
  },
  {
   "cell_type": "code",
   "execution_count": null,
   "id": "caacbe44",
   "metadata": {},
   "outputs": [],
   "source": [
    "print (\"adata.obs has now\", len(list(adata.obs.columns)), \"columns:\")\n",
    "print(list(adata.obs.columns))\n",
    "print (\"adata.var has now\", len(list(adata.var.columns)), \"columns:\")\n",
    "print(list(adata.var.columns))\n",
    "print (\"adata.uns has now\", len(list(adata.uns)), \"items:\")\n",
    "print(list(adata.uns))"
   ]
  },
  {
   "cell_type": "code",
   "execution_count": null,
   "id": "6bdcdc6e",
   "metadata": {},
   "outputs": [],
   "source": [
    "adata"
   ]
  },
  {
   "cell_type": "markdown",
   "id": "f0c0c0b6",
   "metadata": {},
   "source": [
    "These take the form of a pandas column (a pandas \"series\"). You can access them using pandas"
   ]
  },
  {
   "cell_type": "code",
   "execution_count": null,
   "id": "63eb1d79",
   "metadata": {},
   "outputs": [],
   "source": [
    "adata.obs['n_counts']"
   ]
  },
  {
   "cell_type": "markdown",
   "id": "13cd388b",
   "metadata": {},
   "source": [
    "Using your pandas knowledge you can now check whether the function worked:"
   ]
  },
  {
   "cell_type": "code",
   "execution_count": null,
   "id": "c0ebd103",
   "metadata": {},
   "outputs": [],
   "source": [
    "print(adata.obs[\"n_counts\"].min())\n",
    "print(adata.obs[\"n_genes\"].min())"
   ]
  },
  {
   "cell_type": "markdown",
   "id": "62646fb7",
   "metadata": {},
   "source": [
    "...or check the maximum if you like, or anything else"
   ]
  },
  {
   "cell_type": "code",
   "execution_count": null,
   "id": "15197550",
   "metadata": {},
   "outputs": [],
   "source": [
    "print(adata.obs[\"n_counts\"].max())\n",
    "print(adata.obs[\"n_genes\"].max())"
   ]
  },
  {
   "cell_type": "markdown",
   "id": "deb216ca",
   "metadata": {},
   "source": [
    "This following cell annotates and calculates the percentages of mitochondrial genes. In its current state it does nothing."
   ]
  },
  {
   "cell_type": "code",
   "execution_count": null,
   "id": "458f1bcd",
   "metadata": {},
   "outputs": [],
   "source": [
    "adata.var['mt'] = adata.var_names.str.startswith('MT-')  # annotate the group of mitochondrial genes as 'mt'\n",
    "sc.pp.calculate_qc_metrics(adata, qc_vars=['mt'], percent_top=None, log1p=False, inplace=True)"
   ]
  },
  {
   "cell_type": "code",
   "execution_count": null,
   "id": "684ca625",
   "metadata": {},
   "outputs": [],
   "source": [
    "sc.pl.violin(adata, ['n_genes_by_counts', 'total_counts'],\n",
    "             jitter=0.4, multi_panel=True, log = True)"
   ]
  },
  {
   "cell_type": "code",
   "execution_count": null,
   "id": "ecd92371",
   "metadata": {},
   "outputs": [],
   "source": [
    "adata"
   ]
  },
  {
   "cell_type": "markdown",
   "id": "90f07840",
   "metadata": {},
   "source": [
    "# Matrix slicing and normalization"
   ]
  },
  {
   "cell_type": "markdown",
   "id": "85daad73",
   "metadata": {},
   "source": [
    "Let's first check the shape of our dataset in n_genes_by_counts (The number of genes with at least 1 count in a cell)"
   ]
  },
  {
   "cell_type": "code",
   "execution_count": null,
   "id": "b86c5fea",
   "metadata": {},
   "outputs": [],
   "source": [
    "sc.pl.scatter(adata, x='total_counts', y='n_genes_by_counts')"
   ]
  },
  {
   "cell_type": "markdown",
   "id": "12f706be",
   "metadata": {},
   "source": [
    "Here we should slice the object to discard cells that are outside of the distribution - likely to be aggregates, doublets, etc"
   ]
  },
  {
   "cell_type": "code",
   "execution_count": null,
   "id": "74686eaa",
   "metadata": {},
   "outputs": [],
   "source": [
    "adata = adata[adata.obs.n_genes_by_counts < 1000, :]"
   ]
  },
  {
   "cell_type": "code",
   "execution_count": null,
   "id": "dc9ee576",
   "metadata": {},
   "outputs": [],
   "source": [
    "adata = adata[adata.obs.total_counts < 5000, :]"
   ]
  },
  {
   "cell_type": "code",
   "execution_count": null,
   "id": "d61c9e7a",
   "metadata": {},
   "outputs": [],
   "source": [
    "sc.pl.scatter(adata, x='total_counts', y='n_genes_by_counts')"
   ]
  },
  {
   "cell_type": "markdown",
   "id": "dcc63620",
   "metadata": {},
   "source": [
    "The following 2 functions normalise and log transform the matrix"
   ]
  },
  {
   "cell_type": "code",
   "execution_count": null,
   "id": "afb05003",
   "metadata": {},
   "outputs": [],
   "source": [
    "sc.pp.normalize_total(adata, target_sum=1e4)"
   ]
  },
  {
   "cell_type": "code",
   "execution_count": null,
   "id": "1888c724",
   "metadata": {},
   "outputs": [],
   "source": [
    "sc.pp.log1p(adata)"
   ]
  },
  {
   "cell_type": "markdown",
   "id": "679d9115",
   "metadata": {},
   "source": [
    "# Selecting highly variable genes"
   ]
  },
  {
   "cell_type": "markdown",
   "id": "4ec6660f",
   "metadata": {},
   "source": [
    "This is a key step in the analysis, since UMAP, clustering, etc, are run only on the **most variable genes** (those that contain cell type specificity information)"
   ]
  },
  {
   "cell_type": "code",
   "execution_count": null,
   "id": "88018c6c",
   "metadata": {},
   "outputs": [],
   "source": [
    "sc.pp.highly_variable_genes(adata, n_top_genes = 12000)"
   ]
  },
  {
   "cell_type": "code",
   "execution_count": null,
   "id": "4ae4f3db",
   "metadata": {},
   "outputs": [],
   "source": [
    "sc.pl.highly_variable_genes(adata)"
   ]
  },
  {
   "cell_type": "markdown",
   "id": "80c25abd",
   "metadata": {},
   "source": [
    "Scanpy saves the whole matrix as an object called adata.raw and keeps working with the matrix sliced to contain only highly variable genes"
   ]
  },
  {
   "cell_type": "code",
   "execution_count": null,
   "id": "05ec9a08",
   "metadata": {},
   "outputs": [],
   "source": [
    "adata.raw = adata"
   ]
  },
  {
   "cell_type": "code",
   "execution_count": null,
   "id": "2428ce6e",
   "metadata": {},
   "outputs": [],
   "source": [
    "adata = adata[:, adata.var.highly_variable]"
   ]
  },
  {
   "cell_type": "code",
   "execution_count": null,
   "id": "818d0d31",
   "metadata": {},
   "outputs": [],
   "source": [
    "adata"
   ]
  },
  {
   "cell_type": "markdown",
   "id": "3beef6ff",
   "metadata": {},
   "source": [
    "Now \"adata\" has n_vars = highly variable genes "
   ]
  },
  {
   "cell_type": "markdown",
   "id": "ca531792",
   "metadata": {},
   "source": [
    "The old .var dataframe with all genes can still be accessed like this"
   ]
  },
  {
   "cell_type": "code",
   "execution_count": null,
   "id": "fbc16a58",
   "metadata": {},
   "outputs": [],
   "source": [
    "adata.raw.var"
   ]
  },
  {
   "cell_type": "markdown",
   "id": "e4697b64",
   "metadata": {},
   "source": [
    "# Scaling the data"
   ]
  },
  {
   "cell_type": "code",
   "execution_count": null,
   "id": "796ab80b",
   "metadata": {},
   "outputs": [],
   "source": [
    "sc.pp.scale(adata, zero_center=False)"
   ]
  },
  {
   "cell_type": "markdown",
   "id": "3dce232c",
   "metadata": {},
   "source": [
    "# Performing the PCA and kNN analysis"
   ]
  },
  {
   "cell_type": "markdown",
   "id": "fc2d618b",
   "metadata": {},
   "source": [
    "PCA analysis underlies most aspects of single cell analysis. The main parameter we have to chose here is the number of Principal Components used."
   ]
  },
  {
   "cell_type": "code",
   "execution_count": null,
   "id": "02f82eae",
   "metadata": {},
   "outputs": [],
   "source": [
    "sc.tl.pca(adata, svd_solver='arpack', n_comps = 200)"
   ]
  },
  {
   "cell_type": "code",
   "execution_count": null,
   "id": "ca7f59a8",
   "metadata": {},
   "outputs": [],
   "source": [
    "sc.pl.pca_variance_ratio(adata, n_pcs=200, log=True)"
   ]
  },
  {
   "cell_type": "code",
   "execution_count": null,
   "id": "091814cf",
   "metadata": {},
   "outputs": [],
   "source": [
    "adata"
   ]
  },
  {
   "cell_type": "markdown",
   "id": "1a054877",
   "metadata": {},
   "source": [
    "(the PCA analysis is stored in another part of the anndata object, and also in the adata.uns)"
   ]
  },
  {
   "cell_type": "markdown",
   "id": "b9466a67",
   "metadata": {},
   "source": [
    "This builds a kNN (key Nearest Neighbors) graph. This one takes a while."
   ]
  },
  {
   "cell_type": "code",
   "execution_count": null,
   "id": "c000970f",
   "metadata": {},
   "outputs": [],
   "source": [
    "sc.pp.neighbors(adata, n_neighbors=75, n_pcs=50)"
   ]
  },
  {
   "cell_type": "markdown",
   "id": "845ecaab",
   "metadata": {},
   "source": [
    "... and finally we compute the UMAP"
   ]
  },
  {
   "cell_type": "code",
   "execution_count": null,
   "id": "04e3a45d",
   "metadata": {},
   "outputs": [],
   "source": [
    "sc.tl.umap(adata, min_dist=0.3, spread = 1)"
   ]
  },
  {
   "cell_type": "markdown",
   "id": "2a7d6e7d",
   "metadata": {},
   "source": [
    "The UMAP has no clusters, it is just a 2D representation of the cells. We have not done clustering yet"
   ]
  },
  {
   "cell_type": "code",
   "execution_count": null,
   "id": "26116f26",
   "metadata": {},
   "outputs": [],
   "source": [
    "sc.pl.umap(adata)"
   ]
  },
  {
   "cell_type": "markdown",
   "id": "cb3a9387",
   "metadata": {},
   "source": [
    "But we can plot already the expression of genes in each cell (a \"feature plot\" in seurat). For example, this is Smedwi-1"
   ]
  },
  {
   "cell_type": "code",
   "execution_count": null,
   "id": "c1e48988",
   "metadata": {},
   "outputs": [],
   "source": [
    "sc.pl.umap(adata, color=['SmMSTRG.11390'])"
   ]
  },
  {
   "cell_type": "markdown",
   "id": "d1ce2d0f",
   "metadata": {},
   "source": [
    "Below, different ways of obtaining the plots, with different options"
   ]
  },
  {
   "cell_type": "code",
   "execution_count": null,
   "id": "8e352c18",
   "metadata": {},
   "outputs": [],
   "source": [
    "with rc_context({'figure.figsize': (10, 10)}):\n",
    "    sc.pl.umap(adata, color=['SmMSTRG.11390'], size = 30, color_map = \"viridis\")"
   ]
  },
  {
   "cell_type": "code",
   "execution_count": null,
   "id": "cdae0fee",
   "metadata": {},
   "outputs": [],
   "source": [
    "with rc_context({'figure.figsize': (10, 10)}):\n",
    "    sc.pl.umap(adata, color=['SmMSTRG.11390'], size = 30, color_map = \"magma\")"
   ]
  },
  {
   "cell_type": "code",
   "execution_count": null,
   "id": "b559af72",
   "metadata": {},
   "outputs": [],
   "source": [
    "with rc_context({'figure.figsize': (10, 10)}):\n",
    "    sc.pl.umap(adata, color=['SmMSTRG.11390'], size = 30, color_map = \"magma\", frameon=False)"
   ]
  },
  {
   "cell_type": "code",
   "execution_count": null,
   "id": "b5d32a24",
   "metadata": {},
   "outputs": [],
   "source": [
    "sc.pl.umap(adata, color=['SmMSTRG.164', 'SmMSTRG.11390', 'SmMSTRG.17020', 'SmMSTRG.16348', 'SmMSTRG.8221', 'SmMSTRG.20313'])"
   ]
  },
  {
   "cell_type": "code",
   "execution_count": null,
   "id": "821b50f5",
   "metadata": {
    "scrolled": true
   },
   "outputs": [],
   "source": [
    "sc.pl.umap(adata,\n",
    "           color=['SmMSTRG.19765', 'SmMSTRG.4403', 'SmMSTRG.19528', 'SmMSTRG.23477', 'SmMSTRG.201', 'SmMSTRG.684', 'SmMSTRG.6988'],\n",
    "           color_map = 'Purples',\n",
    "           size = 30,\n",
    "           frameon=False, \n",
    "          )\n",
    "\n"
   ]
  },
  {
   "cell_type": "code",
   "execution_count": null,
   "id": "158351bd",
   "metadata": {},
   "outputs": [],
   "source": [
    "sc.pl.umap(adata,\n",
    "           color=['SmMSTRG.19765', 'SmMSTRG.4403', 'SmMSTRG.19528', 'SmMSTRG.23477', 'SmMSTRG.201', 'SmMSTRG.684', 'SmMSTRG.6988'],\n",
    "           color_map = 'viridis',\n",
    "           size = 30,\n",
    "           frameon=False, \n",
    "          )\n"
   ]
  },
  {
   "cell_type": "code",
   "execution_count": null,
   "id": "31c7ba65",
   "metadata": {},
   "outputs": [],
   "source": [
    "with rc_context({'figure.figsize': (10, 10)}):\n",
    "    sc.pl.umap(adata, color=['SmMSTRG.2111'], size = 100, color_map = 'plasma')"
   ]
  },
  {
   "cell_type": "markdown",
   "id": "7f7c632e",
   "metadata": {},
   "source": [
    "Now we do the clustering, using the \"leiden\" algorithm. The main parameter is the resolution. This will be stored in adata.obs['leiden']"
   ]
  },
  {
   "cell_type": "code",
   "execution_count": null,
   "id": "6210d766",
   "metadata": {},
   "outputs": [],
   "source": [
    "sc.tl.leiden(adata, resolution = 2)"
   ]
  },
  {
   "cell_type": "code",
   "execution_count": null,
   "id": "1df79dfa",
   "metadata": {},
   "outputs": [],
   "source": [
    "adata"
   ]
  },
  {
   "cell_type": "markdown",
   "id": "cea22405",
   "metadata": {},
   "source": [
    "Note that the colors are not added by the leiden function, they are added by the umap function"
   ]
  },
  {
   "cell_type": "code",
   "execution_count": null,
   "id": "cedbf4cd",
   "metadata": {},
   "outputs": [],
   "source": [
    "sc.pl.umap(adata, color=['leiden'])"
   ]
  },
  {
   "cell_type": "code",
   "execution_count": null,
   "id": "2a28e515",
   "metadata": {},
   "outputs": [],
   "source": [
    "adata"
   ]
  },
  {
   "cell_type": "code",
   "execution_count": null,
   "id": "f082bdea",
   "metadata": {},
   "outputs": [],
   "source": [
    "with rc_context({'figure.figsize': (15, 15)}):\n",
    "    sc.pl.umap(adata, color='leiden', legend_loc='on data', title='', size = 50, frameon=False)"
   ]
  },
  {
   "cell_type": "code",
   "execution_count": null,
   "id": "55f6511b",
   "metadata": {},
   "outputs": [],
   "source": [
    "adata"
   ]
  },
  {
   "cell_type": "markdown",
   "id": "497601f5",
   "metadata": {},
   "source": [
    "The colors are stored in adata.uns['leiden_colors']. This is just a python list of the n colours of the n clusters"
   ]
  },
  {
   "cell_type": "code",
   "execution_count": null,
   "id": "38cb3634",
   "metadata": {},
   "outputs": [],
   "source": [
    "adata.uns['leiden_colors']"
   ]
  },
  {
   "cell_type": "markdown",
   "id": "fb932870",
   "metadata": {},
   "source": [
    "You could of course apply different clustering resolutions and save them all. Then you need to pass a key to store the new resolution as another pandas column using \"key_added\""
   ]
  },
  {
   "cell_type": "code",
   "execution_count": null,
   "id": "213f6844",
   "metadata": {},
   "outputs": [],
   "source": [
    "sc.tl.leiden(adata, resolution = 1, key_added = \"res 1 leiden\")"
   ]
  },
  {
   "cell_type": "code",
   "execution_count": null,
   "id": "d0f4759f",
   "metadata": {},
   "outputs": [],
   "source": [
    "sc.pl.umap(adata, color=['res 1 leiden'])"
   ]
  },
  {
   "cell_type": "code",
   "execution_count": null,
   "id": "dbbe3171",
   "metadata": {},
   "outputs": [],
   "source": [
    "adata"
   ]
  },
  {
   "cell_type": "code",
   "execution_count": null,
   "id": "13069781",
   "metadata": {},
   "outputs": [],
   "source": [
    "sc.pl.umap(adata, color=['leiden', 'res 1 leiden'],legend_loc='on data', legend_fontsize = 10)"
   ]
  },
  {
   "cell_type": "code",
   "execution_count": null,
   "id": "1aedd34a",
   "metadata": {},
   "outputs": [],
   "source": [
    "adata"
   ]
  },
  {
   "cell_type": "markdown",
   "id": "d48981ed",
   "metadata": {},
   "source": [
    "# Marker gene analysis"
   ]
  },
  {
   "cell_type": "markdown",
   "id": "239a307e",
   "metadata": {},
   "source": [
    "Now we will perform the marker gene analysis using the rank_genes_groups function. "
   ]
  },
  {
   "cell_type": "code",
   "execution_count": null,
   "id": "46e6bdf0",
   "metadata": {},
   "outputs": [],
   "source": [
    "sc.tl.rank_genes_groups(adata, 'leiden', method='wilcoxon')\n",
    "sc.pl.rank_genes_groups(adata, n_genes=10, sharey=False)"
   ]
  },
  {
   "cell_type": "markdown",
   "id": "420ba4c1",
   "metadata": {},
   "source": [
    "The markers are stored in adata.uns, in a section called \"rank_genes_groups\", in the form of a dictionary."
   ]
  },
  {
   "cell_type": "code",
   "execution_count": null,
   "id": "7756a0fc",
   "metadata": {},
   "outputs": [],
   "source": [
    "list(adata.uns)"
   ]
  },
  {
   "cell_type": "code",
   "execution_count": null,
   "id": "362c53a4",
   "metadata": {},
   "outputs": [],
   "source": [
    "adata.uns['rank_genes_groups']"
   ]
  },
  {
   "cell_type": "code",
   "execution_count": null,
   "id": "44bfae6e",
   "metadata": {},
   "outputs": [],
   "source": [
    "list(adata.uns['rank_genes_groups'])"
   ]
  },
  {
   "cell_type": "markdown",
   "id": "aa42cd83",
   "metadata": {},
   "source": [
    "The easier way to operate with them is to put them in a pandas dataframe. The following command takes the first 10 markers, only the names, and makes a dataframe, under the name \"markers_leiden\""
   ]
  },
  {
   "cell_type": "code",
   "execution_count": null,
   "id": "1c7d58ae",
   "metadata": {},
   "outputs": [],
   "source": [
    "markers_leiden = pd.DataFrame(adata.uns['rank_genes_groups']['names']).head(10)"
   ]
  },
  {
   "cell_type": "code",
   "execution_count": null,
   "id": "3d12bdc9",
   "metadata": {},
   "outputs": [],
   "source": [
    "markers_leiden"
   ]
  },
  {
   "cell_type": "markdown",
   "id": "702642b9",
   "metadata": {},
   "source": [
    "You could check the markers of the 2nd layer of clustering ('res 1 leiden')"
   ]
  },
  {
   "cell_type": "code",
   "execution_count": null,
   "id": "584fbfd8",
   "metadata": {},
   "outputs": [],
   "source": [
    "sc.tl.rank_genes_groups(adata, 'res 1 leiden', method='wilcoxon', key_added = \"rank_genes_groups res 1 leiden\")\n",
    "sc.pl.rank_genes_groups(adata, n_genes=10, sharey=False)"
   ]
  },
  {
   "cell_type": "code",
   "execution_count": null,
   "id": "8839d599",
   "metadata": {},
   "outputs": [],
   "source": [
    "list(adata.uns)"
   ]
  },
  {
   "cell_type": "code",
   "execution_count": null,
   "id": "34623df9",
   "metadata": {},
   "outputs": [],
   "source": [
    "markers_leiden_res_1 = pd.DataFrame(adata.uns['rank_genes_groups res 1 leiden']['names']).head(10)"
   ]
  },
  {
   "cell_type": "code",
   "execution_count": null,
   "id": "734c6f3c",
   "metadata": {},
   "outputs": [],
   "source": [
    "markers_leiden_res_1"
   ]
  },
  {
   "cell_type": "markdown",
   "id": "e2f2a337",
   "metadata": {},
   "source": [
    "# Finally, save the data"
   ]
  },
  {
   "cell_type": "markdown",
   "id": "30a33c01",
   "metadata": {},
   "source": [
    "You could also save the data earlier, but don't forget to save it at the end"
   ]
  },
  {
   "cell_type": "code",
   "execution_count": null,
   "id": "99d2206a",
   "metadata": {},
   "outputs": [],
   "source": [
    "adata.write(results_file)"
   ]
  },
  {
   "cell_type": "code",
   "execution_count": null,
   "id": "5cd0c78c",
   "metadata": {},
   "outputs": [],
   "source": []
  }
 ],
 "metadata": {
  "kernelspec": {
   "display_name": "Python 3",
   "language": "python",
   "name": "python3"
  },
  "language_info": {
   "codemirror_mode": {
    "name": "ipython",
    "version": 3
   },
   "file_extension": ".py",
   "mimetype": "text/x-python",
   "name": "python",
   "nbconvert_exporter": "python",
   "pygments_lexer": "ipython3",
   "version": "3.8.8"
  }
 },
 "nbformat": 4,
 "nbformat_minor": 5
}
